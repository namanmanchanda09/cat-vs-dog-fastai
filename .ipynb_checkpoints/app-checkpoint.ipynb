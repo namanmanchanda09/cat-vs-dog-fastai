{
 "cells": [
  {
   "cell_type": "markdown",
   "id": "electrical-rendering",
   "metadata": {},
   "source": [
    "# The Cat vs Dog Classifier \n",
    "\n",
    "> Built using fastai"
   ]
  },
  {
   "cell_type": "code",
   "execution_count": 2,
   "id": "every-apparel",
   "metadata": {},
   "outputs": [],
   "source": [
    "#hide\n",
    "from fastai.vision.all import *  \n",
    "from ipywidgets import *"
   ]
  },
  {
   "cell_type": "code",
   "execution_count": 3,
   "id": "leading-lottery",
   "metadata": {},
   "outputs": [],
   "source": [
    "#hide\n",
    "import ipywidgets as widgets           # line 7\n",
    "uploader = widgets.FileUpload()        # line 8"
   ]
  },
  {
   "cell_type": "code",
   "execution_count": 4,
   "id": "rising-factory",
   "metadata": {},
   "outputs": [],
   "source": [
    "#hide\n",
    "def is_cat(x): return x[0].isupper()"
   ]
  },
  {
   "cell_type": "code",
   "execution_count": 5,
   "id": "olive-savannah",
   "metadata": {},
   "outputs": [],
   "source": [
    "#hide\n",
    "learn = load_learner('model.pkl')"
   ]
  },
  {
   "cell_type": "code",
   "execution_count": 6,
   "id": "existing-kuwait",
   "metadata": {},
   "outputs": [],
   "source": [
    "out_pl = widgets.Output()\n",
    "# out_pl"
   ]
  },
  {
   "cell_type": "code",
   "execution_count": 14,
   "id": "novel-quality",
   "metadata": {},
   "outputs": [],
   "source": [
    "#hide\n",
    "lbl_pred = widgets.Label()\n",
    "lbl_pred_value = 'Please choose an image'\n",
    "# lbl_pred"
   ]
  },
  {
   "cell_type": "code",
   "execution_count": 8,
   "id": "involved-fiber",
   "metadata": {},
   "outputs": [],
   "source": [
    "#hide\n",
    "def helper(change):        # line 9\n",
    "    \n",
    "    # plotting the image\n",
    "    img = PILImage.create(uploader.data[0])\n",
    "    out_pl.clear_output()\n",
    "    with out_pl:\n",
    "        display(img.to_thumb(256,256))\n",
    "    # predicting the image\n",
    "    is_cat,_,probs = learn.predict(img)\n",
    "#     print(f\"Is this a cat?: {is_cat}.\")\n",
    "#     print(f\"Probability it's a cat: {probs[1].item():.6f}\")\n",
    "    lbl_pred.value = f'Prediction: {is_cat}; Probability:{probs[1].item():.6f}'"
   ]
  },
  {
   "cell_type": "code",
   "execution_count": 9,
   "id": "expensive-mirror",
   "metadata": {},
   "outputs": [],
   "source": [
    "# uploader"
   ]
  },
  {
   "cell_type": "code",
   "execution_count": 10,
   "id": "bigger-politics",
   "metadata": {},
   "outputs": [],
   "source": [
    "btn_run = widgets.Button(description='Classify')\n",
    "# btn_run"
   ]
  },
  {
   "cell_type": "code",
   "execution_count": 11,
   "id": "federal-romania",
   "metadata": {},
   "outputs": [],
   "source": [
    "btn_run.on_click(helper)"
   ]
  },
  {
   "cell_type": "code",
   "execution_count": 12,
   "id": "stock-isolation",
   "metadata": {},
   "outputs": [
    {
     "data": {
      "application/vnd.jupyter.widget-view+json": {
       "model_id": "50bff310043a417d90e57b29f5b7a9c9",
       "version_major": 2,
       "version_minor": 0
      },
      "text/plain": [
       "VBox(children=(Label(value='Select an image'), FileUpload(value={}, description='Upload'), Button(description=…"
      ]
     },
     "metadata": {},
     "output_type": "display_data"
    },
    {
     "data": {
      "text/html": [],
      "text/plain": [
       "<IPython.core.display.HTML object>"
      ]
     },
     "metadata": {},
     "output_type": "display_data"
    },
    {
     "data": {
      "text/html": [],
      "text/plain": [
       "<IPython.core.display.HTML object>"
      ]
     },
     "metadata": {},
     "output_type": "display_data"
    },
    {
     "data": {
      "text/html": [],
      "text/plain": [
       "<IPython.core.display.HTML object>"
      ]
     },
     "metadata": {},
     "output_type": "display_data"
    }
   ],
   "source": [
    " VBox([widgets.Label('Select an image'),uploader, btn_run, out_pl, lbl_pred])"
   ]
  },
  {
   "cell_type": "code",
   "execution_count": 13,
   "id": "monetary-departure",
   "metadata": {},
   "outputs": [
    {
     "name": "stdout",
     "output_type": "stream",
     "text": [
      "Collecting voila\n",
      "  Downloading voila-0.2.10-py3-none-any.whl (1.6 MB)\n",
      "\u001b[K     |████████████████████████████████| 1.6 MB 3.6 MB/s eta 0:00:01\n",
      "\u001b[?25hRequirement already satisfied: nbclient<0.6,>=0.4.0 in /Users/namanmanchanda/miniconda3/envs/nishu/lib/python3.8/site-packages (from voila) (0.5.3)\n",
      "Collecting jupyter-server<2.0.0,>=0.3.0\n",
      "  Downloading jupyter_server-1.8.0-py3-none-any.whl (382 kB)\n",
      "\u001b[K     |████████████████████████████████| 382 kB 6.3 MB/s eta 0:00:01\n",
      "\u001b[?25hRequirement already satisfied: nbconvert<7,>=6.0.0 in /Users/namanmanchanda/miniconda3/envs/nishu/lib/python3.8/site-packages (from voila) (6.0.7)\n",
      "Requirement already satisfied: jupyter-client<7,>=6.1.3 in /Users/namanmanchanda/miniconda3/envs/nishu/lib/python3.8/site-packages (from voila) (6.1.7)\n",
      "Requirement already satisfied: pyzmq>=13 in /Users/namanmanchanda/miniconda3/envs/nishu/lib/python3.8/site-packages (from jupyter-client<7,>=6.1.3->voila) (20.0.0)\n",
      "Requirement already satisfied: tornado>=4.1 in /Users/namanmanchanda/miniconda3/envs/nishu/lib/python3.8/site-packages (from jupyter-client<7,>=6.1.3->voila) (6.1)\n",
      "Requirement already satisfied: jupyter-core>=4.6.0 in /Users/namanmanchanda/miniconda3/envs/nishu/lib/python3.8/site-packages (from jupyter-client<7,>=6.1.3->voila) (4.7.1)\n",
      "Requirement already satisfied: traitlets in /Users/namanmanchanda/miniconda3/envs/nishu/lib/python3.8/site-packages (from jupyter-client<7,>=6.1.3->voila) (5.0.5)\n",
      "Requirement already satisfied: python-dateutil>=2.1 in /Users/namanmanchanda/miniconda3/envs/nishu/lib/python3.8/site-packages (from jupyter-client<7,>=6.1.3->voila) (2.8.1)\n",
      "Requirement already satisfied: jinja2 in /Users/namanmanchanda/miniconda3/envs/nishu/lib/python3.8/site-packages (from jupyter-server<2.0.0,>=0.3.0->voila) (2.11.3)\n",
      "Requirement already satisfied: argon2-cffi in /Users/namanmanchanda/miniconda3/envs/nishu/lib/python3.8/site-packages (from jupyter-server<2.0.0,>=0.3.0->voila) (20.1.0)\n",
      "Requirement already satisfied: prometheus-client in /Users/namanmanchanda/miniconda3/envs/nishu/lib/python3.8/site-packages (from jupyter-server<2.0.0,>=0.3.0->voila) (0.9.0)\n",
      "Requirement already satisfied: Send2Trash in /Users/namanmanchanda/miniconda3/envs/nishu/lib/python3.8/site-packages (from jupyter-server<2.0.0,>=0.3.0->voila) (1.5.0)\n",
      "Requirement already satisfied: nbformat in /Users/namanmanchanda/miniconda3/envs/nishu/lib/python3.8/site-packages (from jupyter-server<2.0.0,>=0.3.0->voila) (5.1.2)\n",
      "Requirement already satisfied: terminado>=0.8.3 in /Users/namanmanchanda/miniconda3/envs/nishu/lib/python3.8/site-packages (from jupyter-server<2.0.0,>=0.3.0->voila) (0.9.2)\n",
      "Requirement already satisfied: ipython-genutils in /Users/namanmanchanda/miniconda3/envs/nishu/lib/python3.8/site-packages (from jupyter-server<2.0.0,>=0.3.0->voila) (0.2.0)\n",
      "Collecting anyio<4,>=3.1.0\n",
      "  Downloading anyio-3.1.0-py3-none-any.whl (74 kB)\n",
      "\u001b[K     |████████████████████████████████| 74 kB 2.0 MB/s eta 0:00:01\n",
      "\u001b[?25hCollecting websocket-client\n",
      "  Downloading websocket_client-1.0.1-py2.py3-none-any.whl (68 kB)\n",
      "\u001b[K     |████████████████████████████████| 68 kB 1.8 MB/s eta 0:00:01\n",
      "\u001b[?25hCollecting sniffio>=1.1\n",
      "  Downloading sniffio-1.2.0-py3-none-any.whl (10 kB)\n",
      "Requirement already satisfied: idna>=2.8 in /Users/namanmanchanda/miniconda3/envs/nishu/lib/python3.8/site-packages (from anyio<4,>=3.1.0->jupyter-server<2.0.0,>=0.3.0->voila) (2.10)\n",
      "Requirement already satisfied: async-generator in /Users/namanmanchanda/miniconda3/envs/nishu/lib/python3.8/site-packages (from nbclient<0.6,>=0.4.0->voila) (1.10)\n",
      "Requirement already satisfied: nest-asyncio in /Users/namanmanchanda/miniconda3/envs/nishu/lib/python3.8/site-packages (from nbclient<0.6,>=0.4.0->voila) (1.5.1)\n",
      "Requirement already satisfied: defusedxml in /Users/namanmanchanda/miniconda3/envs/nishu/lib/python3.8/site-packages (from nbconvert<7,>=6.0.0->voila) (0.6.0)\n",
      "Requirement already satisfied: pandocfilters>=1.4.1 in /Users/namanmanchanda/miniconda3/envs/nishu/lib/python3.8/site-packages (from nbconvert<7,>=6.0.0->voila) (1.4.3)\n",
      "Requirement already satisfied: pygments>=2.4.1 in /Users/namanmanchanda/miniconda3/envs/nishu/lib/python3.8/site-packages (from nbconvert<7,>=6.0.0->voila) (2.8.0)\n",
      "Requirement already satisfied: mistune<2,>=0.8.1 in /Users/namanmanchanda/miniconda3/envs/nishu/lib/python3.8/site-packages (from nbconvert<7,>=6.0.0->voila) (0.8.4)\n",
      "Requirement already satisfied: entrypoints>=0.2.2 in /Users/namanmanchanda/miniconda3/envs/nishu/lib/python3.8/site-packages (from nbconvert<7,>=6.0.0->voila) (0.3)\n",
      "Requirement already satisfied: bleach in /Users/namanmanchanda/miniconda3/envs/nishu/lib/python3.8/site-packages (from nbconvert<7,>=6.0.0->voila) (3.3.0)\n",
      "Requirement already satisfied: testpath in /Users/namanmanchanda/miniconda3/envs/nishu/lib/python3.8/site-packages (from nbconvert<7,>=6.0.0->voila) (0.4.4)\n",
      "Requirement already satisfied: jupyterlab-pygments in /Users/namanmanchanda/miniconda3/envs/nishu/lib/python3.8/site-packages (from nbconvert<7,>=6.0.0->voila) (0.1.2)\n",
      "Requirement already satisfied: MarkupSafe>=0.23 in /Users/namanmanchanda/miniconda3/envs/nishu/lib/python3.8/site-packages (from jinja2->jupyter-server<2.0.0,>=0.3.0->voila) (1.1.1)\n",
      "Requirement already satisfied: jsonschema!=2.5.0,>=2.4 in /Users/namanmanchanda/miniconda3/envs/nishu/lib/python3.8/site-packages (from nbformat->jupyter-server<2.0.0,>=0.3.0->voila) (3.2.0)\n",
      "Requirement already satisfied: pyrsistent>=0.14.0 in /Users/namanmanchanda/miniconda3/envs/nishu/lib/python3.8/site-packages (from jsonschema!=2.5.0,>=2.4->nbformat->jupyter-server<2.0.0,>=0.3.0->voila) (0.17.3)\n",
      "Requirement already satisfied: six>=1.11.0 in /Users/namanmanchanda/miniconda3/envs/nishu/lib/python3.8/site-packages (from jsonschema!=2.5.0,>=2.4->nbformat->jupyter-server<2.0.0,>=0.3.0->voila) (1.15.0)\n",
      "Requirement already satisfied: attrs>=17.4.0 in /Users/namanmanchanda/miniconda3/envs/nishu/lib/python3.8/site-packages (from jsonschema!=2.5.0,>=2.4->nbformat->jupyter-server<2.0.0,>=0.3.0->voila) (20.3.0)\n",
      "Requirement already satisfied: setuptools in /Users/namanmanchanda/miniconda3/envs/nishu/lib/python3.8/site-packages (from jsonschema!=2.5.0,>=2.4->nbformat->jupyter-server<2.0.0,>=0.3.0->voila) (52.0.0.post20210125)\n",
      "Requirement already satisfied: ptyprocess in /Users/namanmanchanda/miniconda3/envs/nishu/lib/python3.8/site-packages (from terminado>=0.8.3->jupyter-server<2.0.0,>=0.3.0->voila) (0.7.0)\n",
      "Requirement already satisfied: cffi>=1.0.0 in /Users/namanmanchanda/miniconda3/envs/nishu/lib/python3.8/site-packages (from argon2-cffi->jupyter-server<2.0.0,>=0.3.0->voila) (1.14.5)\n",
      "Requirement already satisfied: pycparser in /Users/namanmanchanda/miniconda3/envs/nishu/lib/python3.8/site-packages (from cffi>=1.0.0->argon2-cffi->jupyter-server<2.0.0,>=0.3.0->voila) (2.20)\n",
      "Requirement already satisfied: packaging in /Users/namanmanchanda/miniconda3/envs/nishu/lib/python3.8/site-packages (from bleach->nbconvert<7,>=6.0.0->voila) (20.9)\n",
      "Requirement already satisfied: webencodings in /Users/namanmanchanda/miniconda3/envs/nishu/lib/python3.8/site-packages (from bleach->nbconvert<7,>=6.0.0->voila) (0.5.1)\n",
      "Requirement already satisfied: pyparsing>=2.0.2 in /Users/namanmanchanda/miniconda3/envs/nishu/lib/python3.8/site-packages (from packaging->bleach->nbconvert<7,>=6.0.0->voila) (2.4.7)\n",
      "Installing collected packages: sniffio, websocket-client, anyio, jupyter-server, voila\n",
      "Successfully installed anyio-3.1.0 jupyter-server-1.8.0 sniffio-1.2.0 voila-0.2.10 websocket-client-1.0.1\n",
      "Enabling: voila\n",
      "- Writing config: /Users/namanmanchanda/miniconda3/envs/nishu/etc/jupyter\n",
      "    - Validating...\n",
      "      voila 0.2.10 \u001b[32mOK\u001b[0m\n"
     ]
    }
   ],
   "source": [
    "!pip install voila\n",
    "!jupyter serverextension enable voila --sys-prefix"
   ]
  },
  {
   "cell_type": "code",
   "execution_count": null,
   "id": "abroad-basis",
   "metadata": {},
   "outputs": [],
   "source": []
  }
 ],
 "metadata": {
  "kernelspec": {
   "display_name": "Python 3",
   "language": "python",
   "name": "python3"
  },
  "language_info": {
   "codemirror_mode": {
    "name": "ipython",
    "version": 3
   },
   "file_extension": ".py",
   "mimetype": "text/x-python",
   "name": "python",
   "nbconvert_exporter": "python",
   "pygments_lexer": "ipython3",
   "version": "3.8.8"
  }
 },
 "nbformat": 4,
 "nbformat_minor": 5
}
