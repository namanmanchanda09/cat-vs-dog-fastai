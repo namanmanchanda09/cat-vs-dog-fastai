{
 "cells": [
  {
   "cell_type": "markdown",
   "id": "electrical-rendering",
   "metadata": {},
   "source": [
    "# The Cat vs Dog Classifier \n",
    "\n",
    "> Built using fastai"
   ]
  },
  {
   "cell_type": "code",
   "execution_count": 2,
   "id": "every-apparel",
   "metadata": {},
   "outputs": [],
   "source": [
    "#hide\n",
    "from fastai.vision.all import *  \n",
    "from ipywidgets import *"
   ]
  },
  {
   "cell_type": "code",
   "execution_count": 3,
   "id": "leading-lottery",
   "metadata": {},
   "outputs": [],
   "source": [
    "#hide\n",
    "import ipywidgets as widgets           # line 7\n",
    "uploader = widgets.FileUpload()        # line 8"
   ]
  },
  {
   "cell_type": "code",
   "execution_count": 4,
   "id": "rising-factory",
   "metadata": {},
   "outputs": [],
   "source": [
    "#hide\n",
    "def is_cat(x): return x[0].isupper()"
   ]
  },
  {
   "cell_type": "code",
   "execution_count": 5,
   "id": "olive-savannah",
   "metadata": {},
   "outputs": [],
   "source": [
    "#hide\n",
    "learn = load_learner('model.pkl')"
   ]
  },
  {
   "cell_type": "code",
   "execution_count": 6,
   "id": "existing-kuwait",
   "metadata": {},
   "outputs": [],
   "source": [
    "out_pl = widgets.Output()\n",
    "# out_pl"
   ]
  },
  {
   "cell_type": "code",
   "execution_count": 14,
   "id": "novel-quality",
   "metadata": {},
   "outputs": [],
   "source": [
    "#hide\n",
    "lbl_pred = widgets.Label()\n",
    "lbl_pred_value = 'Please choose an image'\n",
    "# lbl_pred"
   ]
  },
  {
   "cell_type": "code",
   "execution_count": 8,
   "id": "involved-fiber",
   "metadata": {},
   "outputs": [],
   "source": [
    "#hide\n",
    "def helper(change):        # line 9\n",
    "    \n",
    "    # plotting the image\n",
    "    img = PILImage.create(uploader.data[0])\n",
    "    out_pl.clear_output()\n",
    "    with out_pl:\n",
    "        display(img.to_thumb(256,256))\n",
    "    # predicting the image\n",
    "    is_cat,_,probs = learn.predict(img)\n",
    "#     print(f\"Is this a cat?: {is_cat}.\")\n",
    "#     print(f\"Probability it's a cat: {probs[1].item():.6f}\")\n",
    "    lbl_pred.value = f'Prediction: {is_cat}; Probability:{probs[1].item():.6f}'"
   ]
  },
  {
   "cell_type": "code",
   "execution_count": 9,
   "id": "expensive-mirror",
   "metadata": {},
   "outputs": [],
   "source": [
    "# uploader"
   ]
  },
  {
   "cell_type": "code",
   "execution_count": 10,
   "id": "bigger-politics",
   "metadata": {},
   "outputs": [],
   "source": [
    "btn_run = widgets.Button(description='Classify')\n",
    "# btn_run"
   ]
  },
  {
   "cell_type": "code",
   "execution_count": 11,
   "id": "federal-romania",
   "metadata": {},
   "outputs": [],
   "source": [
    "btn_run.on_click(helper)"
   ]
  },
  {
   "cell_type": "code",
   "execution_count": 12,
   "id": "stock-isolation",
   "metadata": {},
   "outputs": [
    {
     "data": {
      "application/vnd.jupyter.widget-view+json": {
       "model_id": "50bff310043a417d90e57b29f5b7a9c9",
       "version_major": 2,
       "version_minor": 0
      },
      "text/plain": [
       "VBox(children=(Label(value='Select an image'), FileUpload(value={}, description='Upload'), Button(description=…"
      ]
     },
     "metadata": {},
     "output_type": "display_data"
    },
    {
     "data": {
      "text/html": [],
      "text/plain": [
       "<IPython.core.display.HTML object>"
      ]
     },
     "metadata": {},
     "output_type": "display_data"
    },
    {
     "data": {
      "text/html": [],
      "text/plain": [
       "<IPython.core.display.HTML object>"
      ]
     },
     "metadata": {},
     "output_type": "display_data"
    },
    {
     "data": {
      "text/html": [],
      "text/plain": [
       "<IPython.core.display.HTML object>"
      ]
     },
     "metadata": {},
     "output_type": "display_data"
    }
   ],
   "source": [
    " VBox([widgets.Label('Select an image'),uploader, btn_run, out_pl, lbl_pred])"
   ]
  },
  {
   "cell_type": "code",
   "execution_count": null,
   "id": "abroad-basis",
   "metadata": {},
   "outputs": [],
   "source": []
  }
 ],
 "metadata": {
  "kernelspec": {
   "display_name": "Python 3",
   "language": "python",
   "name": "python3"
  },
  "language_info": {
   "codemirror_mode": {
    "name": "ipython",
    "version": 3
   },
   "file_extension": ".py",
   "mimetype": "text/x-python",
   "name": "python",
   "nbconvert_exporter": "python",
   "pygments_lexer": "ipython3",
   "version": "3.8.8"
  }
 },
 "nbformat": 4,
 "nbformat_minor": 5
}
